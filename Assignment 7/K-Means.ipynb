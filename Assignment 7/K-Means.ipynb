{
 "cells": [
  {
   "cell_type": "markdown",
   "id": "5d3122ec",
   "metadata": {},
   "source": [
    "#### Dhany Septiandhika Pratama / A11.2019.11750"
   ]
  },
  {
   "cell_type": "markdown",
   "id": "0dcbfafe",
   "metadata": {},
   "source": [
    "# Klastering dengan K-Means"
   ]
  },
  {
   "cell_type": "markdown",
   "id": "cc779622",
   "metadata": {},
   "source": [
    "### Import library scikit learn dan matplotlib"
   ]
  },
  {
   "cell_type": "code",
   "execution_count": null,
   "id": "456d7b21",
   "metadata": {},
   "outputs": [],
   "source": [
    "from sklearn import datasets\n",
    "from sklearn.cluster import KMeans\n",
    "from sklearn.preprocessing import StandardScaler\n",
    "from scipy.spatial.distance import cdist\n",
    "import matplotlib.pyplot as plt"
   ]
  },
  {
   "cell_type": "code",
   "execution_count": null,
   "id": "0e705a4e",
   "metadata": {},
   "outputs": [],
   "source": [
    "iris = datasets.load_iris()\n",
    "features = iris.data\n",
    "plt.scatter(features[:,0], features[:,1])\n",
    "plt.show()"
   ]
  },
  {
   "cell_type": "markdown",
   "id": "17ee12b6",
   "metadata": {},
   "source": [
    "#### Membaca data input. Sebagai ilustrasi, dataset yang digunakan di dalam program ini adalah data iris yang bersumber kepada data yang dipublikasikan oleh Fisher (Fisher, 1950). Data tersebut dapat didownload dari website UCI Machine Learning Repository. Hasil visualisasi scatter data iris bisa dilihat pada gambar diatas"
   ]
  },
  {
   "cell_type": "code",
   "execution_count": null,
   "id": "3049c99c",
   "metadata": {},
   "outputs": [],
   "source": [
    "scaler = StandardScaler()\n",
    "features_standardized = scaler.fit_transform(features)"
   ]
  },
  {
   "cell_type": "code",
   "execution_count": null,
   "id": "6ef286c4",
   "metadata": {},
   "outputs": [],
   "source": [
    "from sklearn.metrics import silhouette_samples, silhouette_score\n",
    "wcss = []\n",
    "for i in range(1, 11):\n",
    "    kmeans = KMeans(n_clusters = i, init = 'k-means++',\n",
    "                   max_iter = 300, n_init = 10, random_state = 0)\n",
    "    kmeans.fit(features)\n",
    "    wcss.append(kmeans.inertia_)\n",
    "plt.plot(range(1, 11), wcss)\n",
    "plt.title('Elbow Method')\n",
    "plt.xlabel('Number of clusters')\n",
    "plt.ylabel('WCSS')\n",
    "plt.show()"
   ]
  },
  {
   "cell_type": "markdown",
   "id": "73cef76e",
   "metadata": {},
   "source": [
    "#### Membuat klastering dan mencari nilai k yang paling optimal, dengan menggunakan elbow method. Tampilan hasil elbow method seperti terlihat pada gambar diatas."
   ]
  },
  {
   "cell_type": "code",
   "execution_count": null,
   "id": "40c383de",
   "metadata": {},
   "outputs": [],
   "source": [
    "kmeans = KMeans(n_clusters = 4, init = 'k-means++', max_iter = 300, n_init = 10, random_state = 0)\n",
    "pred_y = kmeans.fit_predict(features)\n",
    "plt.scatter(features[:,0], features[:,1])\n",
    "plt.scatter(kmeans.cluster_centers_[:,0], kmeans.cluster_centers_[:,1], s = 300, c = 'yellow')\n",
    "plt.show()"
   ]
  },
  {
   "cell_type": "markdown",
   "id": "3edf986b",
   "metadata": {},
   "source": [
    "### Proses clustering, hasil visualisasi dapat dilihat pada gambar diatas"
   ]
  },
  {
   "cell_type": "markdown",
   "id": "3873cb8f",
   "metadata": {},
   "source": [
    "# Implementasi Python dengan dataset txt"
   ]
  },
  {
   "cell_type": "code",
   "execution_count": null,
   "id": "850d88ef",
   "metadata": {},
   "outputs": [],
   "source": [
    "# Import Library yang dibutuhkan\n",
    "import numpy as np\n",
    "from matplotlib import pyplot as plt\n",
    "from matplotlib.pyplot import cm\n",
    "import time\n",
    "import itertools"
   ]
  },
  {
   "cell_type": "code",
   "execution_count": null,
   "id": "d9a65adb",
   "metadata": {},
   "outputs": [],
   "source": [
    "# baca datset dari file\n",
    "datasetPath = \"E:\\dataku.txt\"\n",
    "dataset = np.loadtxt(datasetPath, delimiter = \" \")"
   ]
  },
  {
   "cell_type": "code",
   "execution_count": null,
   "id": "bc423929",
   "metadata": {},
   "outputs": [],
   "source": [
    "# mendefinisikan parameter kmeans klustering\n",
    "k = 2 # jumlah klaster yang diinginkan\n",
    "iterationCounter = 0 # counter untuk iterasi\n",
    "input = dataset # input data\n",
    "# fungsi untuk inisialisasi titik pusat klaster (random)\n",
    "def initCentroid(dataIn, k):\n",
    "    result = dataIn[np.random.choice(dataIn.shape[0], k, replace = False)]\n",
    "    return result"
   ]
  },
  {
   "cell_type": "markdown",
   "id": "b250499d",
   "metadata": {},
   "source": [
    "#### Pertama kali kita harus import library yang dibutuhkan seperti numpy, matplotlib, dll. Kemudian baca dataset dari file (dataku.txt => berisi 400 data dalam bentuk teks). Setelah itu mendefinisikan parameter K-Means. Buat fungsi untuk inisialisasi titik pusat klister secara random."
   ]
  },
  {
   "cell_type": "code",
   "execution_count": null,
   "id": "1e5bd88a",
   "metadata": {},
   "outputs": [],
   "source": [
    "# fungsi untuk plot hasil klaster per iterasi\n",
    "def plotClusterResult(listClusterMembers, centroid, iteration, converged):\n",
    "    n = listClusterMembers.__len__()\n",
    "    color = iter(cm.rainbow(np.linspace(0, 1, n)))\n",
    "    plt.figure(\"result\")\n",
    "    plt.clf()\n",
    "    plt.title(\"iteration-\" + iteration)\n",
    "    marker = itertools.cycle(('.', '*', '^', 'x', '+'))\n",
    "    for i in range(n):\n",
    "        col = next(color)\n",
    "        memberCluster = np.asmatrix(listClusterMembers[i])\n",
    "        plt.scatter(np.ravel(memberCluster[:, 0]), np.ravel(memberCluster[:,1]),\n",
    "                    marker=marker.__next__(), s=100, c=col, label=\"klaster-\"+str(i+1))\n",
    "    for i in range(n):\n",
    "        plt.scatter((centroid[i, 0]), (centroid[i, 1]), marker=marker.__next__(), \n",
    "                    c=col, label=\"centroid-\" + str(i+1))\n",
    "    if(converged == 0):\n",
    "        plt.legend()\n",
    "        plt.ion()\n",
    "        plt.show()\n",
    "        plt.pause(0.1)\n",
    "    if(converged == 1):\n",
    "        plt.legend()\n",
    "        plt.show(block = True)"
   ]
  },
  {
   "cell_type": "code",
   "execution_count": null,
   "id": "0c207cae",
   "metadata": {},
   "outputs": [],
   "source": [
    "# fungsi utama algoritma kmeans\n",
    "def kMeans(data, centroidInit):\n",
    "    nCluster = k #banyaknya klaster\n",
    "    global iterationCounter\n",
    "    centroidInit = np.matrix(centroidInit)\n",
    "    # looping hingga konvergen\n",
    "    while(True):\n",
    "        iterationCounter +=1\n",
    "        euclideanMatrixAllCluster = np.ndarray(shape=(data.shape[0],0))\n",
    "        # ulangi proses untuk semua klaster\n",
    "        for i in range (0, nCluster):\n",
    "            centroidRepeated = np.repeat(centroidInit[i,:], data.shape[0], axis=0)\n",
    "            deltaMatrix = abs(np.subtract(data, centroidRepeated))\n",
    "            # hitung jarak Eulidean\n",
    "            euclideanMatrix=np.sqrt(np.square(deltaMatrix).sum(axis=1))\n",
    "            euclideanMatrixAllCluster = \\\n",
    "                np.concatenate((euclideanMatrixAllCluster,euclideanMatrix),axis=1)\n",
    "        # tempatkan data ke klaster yang jarak Eulideannya paling dekat\n",
    "        clusterMatrix = np.ravel(np.argmin(np.matrix(euclideanMatrixAllCluster),axis=1))\n",
    "        listClusterMember = [[]for i in range(k)]\n",
    "        for i in range(0, data.shape[0]):\n",
    "            listClusterMember[np.asscalar(clusterMatrix[i])].append(data[i,:])\n",
    "        # hitung titik pusat klaster terbaru\n",
    "        newCentroid =np.ndarray(shape=(0, centroidInit.shape[1]))\n",
    "        for i in range (0, nCluster):\n",
    "            memberCluster = np.asmatrix(listClusterMember[i])\n",
    "            centroidCluster = memberCluster.mean(axis=0)\n",
    "            newCentroid = np.concatenate((newCentroid, centroidCluster), axis=0)\n",
    "        print(\"iter: \",iterationCounter)\n",
    "        print(\"centroid: \",newCentroid)\n",
    "        # break dari loop jika sudah konvergen\n",
    "        if((centroidInit == newCentroid).all()):\n",
    "            break\n",
    "        # update titik pusat klaster dengan nilai yang baru\n",
    "        centroidInit = newCentroid\n",
    "        # plot hasil klaster per iterasi\n",
    "        plotClusterResult(listClusterMember, centroidInit, str(iterationCounter),0)\n",
    "        time.sleep(1) # diberi jeda 1 detik agar hasil plot klaster nyaman dilihat\n",
    "    return listClusterMember, centroidInit"
   ]
  },
  {
   "cell_type": "code",
   "execution_count": null,
   "id": "1387536e",
   "metadata": {},
   "outputs": [],
   "source": [
    "# panggil fungsi inisialisasi klaster\n",
    "centroidInit = initCentroid(input, k)\n",
    "# panggil semua fungsi kmeans\n",
    "clusterResults, centroid = kMeans(input, centroidInit)\n",
    "# plot hasil final klaster setelah konvergen\n",
    "plotClusterResult(clusterResults, centroid, str(iterationCounter) + \"(converged)\", 1)"
   ]
  },
  {
   "cell_type": "markdown",
   "id": "c2f1df49",
   "metadata": {},
   "source": [
    "### Import library scikit learn, numpy, pandas dan matplotlib"
   ]
  },
  {
   "cell_type": "code",
   "execution_count": null,
   "id": "9f84b75b",
   "metadata": {},
   "outputs": [],
   "source": [
    "# Import Library yang akan digunakan\n",
    "import matplotlib.pyplot as plt\n",
    "import numpy as np\n",
    "import pandas as pd\n",
    "from sklearn.cluster import KMeans"
   ]
  },
  {
   "cell_type": "markdown",
   "id": "1e5dd246",
   "metadata": {},
   "source": [
    "#### Siapkan 20 record data, kemudian simpan dengan nama konsumen.csv Kemudian, memanggil library yang dibutuhkan. "
   ]
  },
  {
   "cell_type": "code",
   "execution_count": null,
   "id": "7dcf226a",
   "metadata": {},
   "outputs": [],
   "source": [
    "# menyiapkan data dan memanggil dataset\n",
    "dataset = pd.read_csv('konsumen.csv')\n",
    "dataset.keys()"
   ]
  },
  {
   "cell_type": "markdown",
   "id": "15a2804f",
   "metadata": {},
   "source": [
    "#### Memanggil dataset konsumen.csv"
   ]
  },
  {
   "cell_type": "code",
   "execution_count": null,
   "id": "9a9429e5",
   "metadata": {},
   "outputs": [],
   "source": [
    "dataku = pd.DataFrame(dataset)\n",
    "dataku.head()"
   ]
  },
  {
   "cell_type": "markdown",
   "id": "c80e662c",
   "metadata": {},
   "source": [
    "#### Untuk menampilkan 5 baris data pertama dari dataset"
   ]
  },
  {
   "cell_type": "code",
   "execution_count": null,
   "id": "2a07cf2f",
   "metadata": {},
   "outputs": [],
   "source": [
    "# Konversi dataset ke data array\n",
    "X = np.asarray(dataset)\n",
    "print(X)"
   ]
  },
  {
   "cell_type": "markdown",
   "id": "25694402",
   "metadata": {},
   "source": [
    "#### Hasil konversinya seperti tampil pada gambar diatas"
   ]
  },
  {
   "cell_type": "code",
   "execution_count": null,
   "id": "8b8c6a6d",
   "metadata": {},
   "outputs": [],
   "source": [
    "# Menampilkan data array kedalam scatter plot\n",
    "plt.scatter(X[:,0], X[:,1], label='True Position')\n",
    "plt.xlabel('Gaji')\n",
    "plt.ylabel('pengeluaran')\n",
    "plt.title('grafik penyebaran data konsumen')\n",
    "plt.show"
   ]
  },
  {
   "cell_type": "markdown",
   "id": "d548fbb2",
   "metadata": {},
   "source": [
    "#### Menampilkan data Array ke dalam Scatter Plot. Untuk visualisasi data, berikut adalah perintah untuk menampilkan data array. Hasil visualisasi penyebaran data konsumen seperti terlihat pada gambar diatas."
   ]
  },
  {
   "cell_type": "code",
   "execution_count": null,
   "id": "d766539d",
   "metadata": {},
   "outputs": [],
   "source": [
    "# mengaktifkan kmeans dengan jumlah k=2\n",
    "kmeans = KMeans(n_clusters=2)\n",
    "kmeans.fit(X)"
   ]
  },
  {
   "cell_type": "markdown",
   "id": "7f15d768",
   "metadata": {},
   "source": [
    "#### Mengaktifkan K-Means dari Sklearn. Untuk langkah selanjutnya, perlu dilakukan konversi dataset ke dalam tipe data array, dan kemudian melakukan fitting data dengan kode program sebagai berikut."
   ]
  },
  {
   "cell_type": "code",
   "execution_count": null,
   "id": "00ca07fa",
   "metadata": {},
   "outputs": [],
   "source": [
    "# menampilkan nilai centroid yang digenerate oleh algoritma\n",
    "print(kmeans.cluster_centers_)"
   ]
  },
  {
   "cell_type": "markdown",
   "id": "3945fa12",
   "metadata": {},
   "source": [
    "#### Menampilkan nilai Centroid. Untuk menampilkan nilai centroid atau titik pusat klaster yang degenerate oleh algoritma dapat menggunakan kode diatas dan hasil dapat dilihat diatas."
   ]
  },
  {
   "cell_type": "code",
   "execution_count": null,
   "id": "32e3ce3c",
   "metadata": {},
   "outputs": [],
   "source": [
    "plt.scatter(X[:,0], X[:,1], c=kmeans.labels_, cmap=\"rainbow\")\n",
    "plt.xlabel('Gaji')\n",
    "plt.ylabel('pengeluaran')\n",
    "plt.title('Grafik hasil klastering data gaji dan pengeluaran konsumen')\n",
    "plt.show"
   ]
  },
  {
   "cell_type": "markdown",
   "id": "56377cb6",
   "metadata": {},
   "source": [
    "#### Visualisasi Hasil. Untuk menampilkan scatter plot dari data-data setelah dilakukan klasterisasi oleh algoritma kmeans. Dan visualisasi hasil klaster dapat dilihat pada gambar grafik diatas."
   ]
  },
  {
   "cell_type": "code",
   "execution_count": null,
   "id": "6dfed78d",
   "metadata": {},
   "outputs": [],
   "source": [
    "plt.scatter(X[:,0], X[:,1], c=kmeans.labels_, cmap=\"rainbow\")\n",
    "plt.scatter(kmeans.cluster_centers_[:,0], kmeans.cluster_centers_[:,1], color='black')\n",
    "plt.xlabel('Gaji')\n",
    "plt.ylabel('pengeluaran')\n",
    "plt.title('Grafik hasil klastering data gaji dan pengeluaran konsumen')\n",
    "plt.show"
   ]
  },
  {
   "cell_type": "markdown",
   "id": "e487b77a",
   "metadata": {},
   "source": [
    "#### menampilkan hasil centroid dari masing masing klaster dan visualisasinya dapat dilihat pada gambar diatas."
   ]
  }
 ],
 "metadata": {
  "kernelspec": {
   "display_name": "Python 3 (ipykernel)",
   "language": "python",
   "name": "python3"
  },
  "language_info": {
   "codemirror_mode": {
    "name": "ipython",
    "version": 3
   },
   "file_extension": ".py",
   "mimetype": "text/x-python",
   "name": "python",
   "nbconvert_exporter": "python",
   "pygments_lexer": "ipython3",
   "version": "3.10.3"
  }
 },
 "nbformat": 4,
 "nbformat_minor": 5
}
