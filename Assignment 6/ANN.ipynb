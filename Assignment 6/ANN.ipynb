{
 "cells": [
  {
   "cell_type": "markdown",
   "id": "e137dd2e",
   "metadata": {},
   "source": [
    "#### Dhany Septiandhika Pratama / A11.2019.11750"
   ]
  },
  {
   "cell_type": "markdown",
   "id": "cb27eb8f",
   "metadata": {},
   "source": [
    "## Single Layer Perceptron (SLP)"
   ]
  },
  {
   "cell_type": "code",
   "execution_count": null,
   "id": "963da974",
   "metadata": {},
   "outputs": [],
   "source": [
    "import numpy as np"
   ]
  },
  {
   "cell_type": "markdown",
   "id": "70c52d9a",
   "metadata": {},
   "source": [
    "#### code diatas adalah mengimpor library numpy"
   ]
  },
  {
   "cell_type": "code",
   "execution_count": null,
   "id": "3e58c6da",
   "metadata": {},
   "outputs": [],
   "source": [
    "def forwardPass(inputs, weight, bias):\n",
    "    w_sum = np.dot(inputs, weight) + bias\n",
    "\n",
    "    # Linear Activation f(x) = x\n",
    "    act = w_sum\n",
    "\n",
    "    return act"
   ]
  },
  {
   "cell_type": "markdown",
   "id": "71080d0e",
   "metadata": {},
   "source": [
    "#### code diatas yaitu merupakan operasi dot yang akan dilakukan disetiap elemen input setiap weight yang terhubung dengan input dan ditambahkan bias. Hasil operasi dot ini akan diinputkan ke activation function."
   ]
  },
  {
   "cell_type": "code",
   "execution_count": null,
   "id": "d72b6514",
   "metadata": {},
   "outputs": [],
   "source": [
    "# Pre-Trained Weights & Biases after Training\n",
    "W = np.array([[2.99999928]])\n",
    "b = np.array([1.99999976])"
   ]
  },
  {
   "cell_type": "markdown",
   "id": "cae49604",
   "metadata": {},
   "source": [
    "#### code diatas yaitu nilai yang didapatkan dari proses training unutk weight dan bias dari fungsi linier f(x) = 3x + 2 ≈ f(x) = 2.99999928x + 1.99999976"
   ]
  },
  {
   "cell_type": "code",
   "execution_count": null,
   "id": "32b6bdb4",
   "metadata": {},
   "outputs": [],
   "source": [
    "# Initialize Input Data\n",
    "inputs = np.array([[7], [8], [9], [10]])"
   ]
  },
  {
   "cell_type": "markdown",
   "id": "2ade1dc1",
   "metadata": {},
   "source": [
    "#### code diatas adalah percobaan untuk melakukan sebuah prediksi nilai dari 7,8,9,10"
   ]
  },
  {
   "cell_type": "code",
   "execution_count": null,
   "id": "93b61a05",
   "metadata": {},
   "outputs": [],
   "source": [
    "# Output of Output Layer\n",
    "o_out = forwardPass(inputs, W, b)"
   ]
  },
  {
   "cell_type": "markdown",
   "id": "c14bafd9",
   "metadata": {},
   "source": [
    "#### hasil outputnya seharusnya yaitu 23,26,29,32"
   ]
  },
  {
   "cell_type": "code",
   "execution_count": null,
   "id": "1d4d0aa1",
   "metadata": {},
   "outputs": [],
   "source": [
    "print('Output Layer Output (Linear)')\n",
    "print('================================')\n",
    "print(o_out, \"\\n\")"
   ]
  },
  {
   "cell_type": "markdown",
   "id": "9988362f",
   "metadata": {},
   "source": [
    "#### hasil prediksinya yaitu 22.99999472, 25.999994, 28.99999328, 31.99999256. Tetapi dilihat dari hasil prediksi tersebut masih terdapat error tetapi dengan nilai yang sangat kecil."
   ]
  },
  {
   "cell_type": "markdown",
   "id": "5b4d6add",
   "metadata": {},
   "source": [
    "## Multi Layer Perceptron (MLP)"
   ]
  },
  {
   "cell_type": "code",
   "execution_count": null,
   "id": "a7558ed0",
   "metadata": {},
   "outputs": [],
   "source": [
    "import numpy as np"
   ]
  },
  {
   "cell_type": "markdown",
   "id": "5ea470f8",
   "metadata": {},
   "source": [
    "#### code diatas adalah mengimpor library numpy"
   ]
  },
  {
   "cell_type": "code",
   "execution_count": null,
   "id": "ce1be900",
   "metadata": {},
   "outputs": [],
   "source": [
    "def forwardPass(inputs, weight, bias, activation = 'linear'):\n",
    "    w_sum = np.dot(inputs, weight) + bias\n",
    "\n",
    "    if activation == 'relu' :\n",
    "        # ReLU Activation f(x) = max(0, x)\n",
    "        act = np.maximum(w_sum, 0)\n",
    "    else :\n",
    "        # Linear Activation f(x) = x\n",
    "        act = w_sum\n",
    "\n",
    "    return act"
   ]
  },
  {
   "cell_type": "markdown",
   "id": "bc6d46a0",
   "metadata": {},
   "source": [
    "#### code diatas hampir sama dengan diatas hanya menambahkan argumen baru untuk memilih activation function (ReLU / Linear Activation)"
   ]
  },
  {
   "cell_type": "code",
   "execution_count": null,
   "id": "860fd226",
   "metadata": {},
   "outputs": [],
   "source": [
    "# Pre-Trained Weights & Biases after Training\n",
    "W_H = np.array([[0.00192761, -0.78845304, 0.30310717, 0.44131625, 0.32792646, -0.02451803, 1.43445349, -1.12972116]])\n",
    "b_H = np.array([-0.02657719, -1.15885878, -0.79183501, -0.33550513, -0.23438406, -0.25078532, 0.22305705, 0.80253315])\n",
    "\n",
    "W_o = np.array([[-0.77540326], [ 0.5030424 ], [ 0.37374797], [-0.20287184], [-0.35956827], [-0.54576212], [ 1.04326093], [ 0.8857621 ]])\n",
    "b_o = np.array([ 0.04351173])"
   ]
  },
  {
   "cell_type": "code",
   "execution_count": null,
   "id": "f20ddc40",
   "metadata": {},
   "outputs": [],
   "source": [
    "# Initialize Input Data\n",
    "inputs = np.array([[-2], [0], [2]])"
   ]
  },
  {
   "cell_type": "markdown",
   "id": "d82d9ceb",
   "metadata": {},
   "source": [
    "#### nilai yang menjadi ujicoba non-linear regression yaitu dari -2,0,2"
   ]
  },
  {
   "cell_type": "code",
   "execution_count": null,
   "id": "7c37c623",
   "metadata": {},
   "outputs": [],
   "source": [
    "#Output of Hidden Layer\n",
    "h_out = forwardPass(inputs, W_H, b_H, 'relu')"
   ]
  },
  {
   "cell_type": "code",
   "execution_count": null,
   "id": "cba5d523",
   "metadata": {},
   "outputs": [],
   "source": [
    "print('Hidden Layer Output (ReLU)')\n",
    "print('================================')\n",
    "print(h_out, \"\\n\")"
   ]
  },
  {
   "cell_type": "code",
   "execution_count": null,
   "id": "57a1991c",
   "metadata": {},
   "outputs": [],
   "source": [
    "# Output of Output Layer\n",
    "o_out = forwardPass(h_out, W_o, b_o, 'linear')"
   ]
  },
  {
   "cell_type": "markdown",
   "id": "37bf8d5f",
   "metadata": {},
   "source": [
    "#### output nilai yang dihasilkan seharusnya adalah 3,1,3 dan hasil prediksinya adalah 2.96598907, 0.98707188, 3.00669343"
   ]
  },
  {
   "cell_type": "code",
   "execution_count": null,
   "id": "b97b3184",
   "metadata": {},
   "outputs": [],
   "source": [
    "print('Output Layer Output (Linear)')\n",
    "print('================================')\n",
    "print(o_out, \"\\n\")"
   ]
  },
  {
   "cell_type": "markdown",
   "id": "8c638c9f",
   "metadata": {},
   "source": [
    "#### masih terdapat sedikit error tetapi hasil menunjukkan bahwa MLP dapat melakukan regresi terhadap fungsi non-linier dengan cukup baik"
   ]
  }
 ],
 "metadata": {
  "kernelspec": {
   "display_name": "Python 3 (ipykernel)",
   "language": "python",
   "name": "python3"
  },
  "language_info": {
   "codemirror_mode": {
    "name": "ipython",
    "version": 3
   },
   "file_extension": ".py",
   "mimetype": "text/x-python",
   "name": "python",
   "nbconvert_exporter": "python",
   "pygments_lexer": "ipython3",
   "version": "3.10.3"
  }
 },
 "nbformat": 4,
 "nbformat_minor": 5
}
