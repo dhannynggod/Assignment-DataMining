{
 "cells": [
  {
   "cell_type": "markdown",
   "id": "ce303d09",
   "metadata": {},
   "source": [
    "##### Dhany Septiandhika Pratama / A11.2019.11750 / A11.4619"
   ]
  },
  {
   "cell_type": "markdown",
   "id": "5278c3e6",
   "metadata": {},
   "source": [
    "# Data Preprocessing"
   ]
  },
  {
   "cell_type": "markdown",
   "id": "dc007cb3",
   "metadata": {},
   "source": [
    "### Import Library numpy, matplotlib, pandas"
   ]
  },
  {
   "cell_type": "code",
   "execution_count": null,
   "id": "dddc1461",
   "metadata": {},
   "outputs": [],
   "source": [
    "import numpy as np\n",
    "import matplotlib.pyplot as plt\n",
    "import pandas as pd"
   ]
  },
  {
   "cell_type": "markdown",
   "id": "e1646ce6",
   "metadata": {},
   "source": [
    "##### Code diatas adalah untuk import library numpy, matplotlib dan pandas. bisa diinstal melalui cmd dengan command pip install tambahan satu library lagi yaitu scikit learn"
   ]
  },
  {
   "cell_type": "markdown",
   "id": "bc4ec3c6",
   "metadata": {},
   "source": [
    "### Import dataset csv file"
   ]
  },
  {
   "cell_type": "code",
   "execution_count": null,
   "id": "81e1b693",
   "metadata": {},
   "outputs": [],
   "source": [
    "dataset = pd.read_csv('Data.csv')\n",
    "x = dataset.iloc[:, :-1].values\n",
    "y = dataset.iloc[:, -1].values"
   ]
  },
  {
   "cell_type": "code",
   "execution_count": null,
   "id": "5ae9822c",
   "metadata": {},
   "outputs": [],
   "source": [
    "print(x)"
   ]
  },
  {
   "cell_type": "code",
   "execution_count": null,
   "id": "9abb9ef5",
   "metadata": {},
   "outputs": [],
   "source": [
    "print(y)"
   ]
  },
  {
   "cell_type": "markdown",
   "id": "476fb451",
   "metadata": {},
   "source": [
    "##### Dataset disini saya simpan dengan nama Data berformat csv, print x dan y diatas adalah untuk mencetak nilai class, Perhatikan pada (X) masih terdapat Noisy nilai = nan, [:, :-1]: pilih semua baris dalam dataset, serta semua kolomkecuali kolom terakhir (Negative indexing pada Python).   [:, 0:3]: tanpa negative indexing (ada empat kolom pada dataset, kita memilih tiga kolom: indeks 0, 1, dan 2). [:, -1]: pilih semua baris, kolom terakhir."
   ]
  },
  {
   "cell_type": "markdown",
   "id": "f621bb62",
   "metadata": {},
   "source": [
    "### Menghilangkan Missing Value"
   ]
  },
  {
   "cell_type": "code",
   "execution_count": null,
   "id": "b723d5c0",
   "metadata": {},
   "outputs": [],
   "source": [
    "from sklearn.impute import SimpleImputer\n",
    "imputer = SimpleImputer(missing_values=np.nan, strategy='mean')\n",
    "imputer.fit(x[:, 1:3])\n",
    "x[:, 1:3] = imputer.transform(x[:, 1:3])"
   ]
  },
  {
   "cell_type": "code",
   "execution_count": null,
   "id": "00cccbfd",
   "metadata": {},
   "outputs": [],
   "source": [
    "print(x)"
   ]
  },
  {
   "cell_type": "markdown",
   "id": "5affcf3a",
   "metadata": {},
   "source": [
    "##### Menambahkan satu library yaitu scikit learn, class simpel imputer yaitu untuk mengganti nilai yang kosong(nan) dengan mean kolom. missing_values digunakan untuk penanda bahwa nilai aslinya kosong atau tidak bernilai. strategi yaitu rata rata kolom(mean) bisa juga menggunakan median. kemudian berikutnya imputer harus di fit berdasarkan kolom dengan metode fit()"
   ]
  },
  {
   "cell_type": "markdown",
   "id": "a18b27c7",
   "metadata": {},
   "source": [
    "### Encoding data kategori"
   ]
  },
  {
   "cell_type": "code",
   "execution_count": null,
   "id": "3d227d5f",
   "metadata": {},
   "outputs": [],
   "source": [
    "from sklearn.compose import ColumnTransformer\n",
    "from sklearn.preprocessing import OneHotEncoder\n",
    "ct = ColumnTransformer(transformers = [('encoder', OneHotEncoder(), [0])], remainder='passthrough')\n",
    "x = np.array(ct.fit_transform(x))"
   ]
  },
  {
   "cell_type": "code",
   "execution_count": null,
   "id": "bba6d277",
   "metadata": {},
   "outputs": [],
   "source": [
    "print(x)"
   ]
  },
  {
   "cell_type": "markdown",
   "id": "ce6e00a4",
   "metadata": {},
   "source": [
    "##### Matrik x yang sebelumnya sudah terbentuk pada kolom bertipe string jadi perlu diubah ke tipe numeric(integer atau float) dan gunakan variabel OneHotEncoder dan ColumnTransformer."
   ]
  },
  {
   "cell_type": "markdown",
   "id": "85403b26",
   "metadata": {},
   "source": [
    "### Encoding data kategori"
   ]
  },
  {
   "cell_type": "code",
   "execution_count": null,
   "id": "fc42f409",
   "metadata": {},
   "outputs": [],
   "source": [
    "from sklearn.preprocessing import LabelEncoder\n",
    "le = LabelEncoder()\n",
    "y = le.fit_transform(y)"
   ]
  },
  {
   "cell_type": "code",
   "execution_count": null,
   "id": "15c476f7",
   "metadata": {},
   "outputs": [],
   "source": [
    "print(y)"
   ]
  },
  {
   "cell_type": "markdown",
   "id": "510aac4c",
   "metadata": {},
   "source": [
    "##### Matrik y diubah menjadi numeric(integer) dengan LabelEncoder"
   ]
  },
  {
   "cell_type": "markdown",
   "id": "48592adf",
   "metadata": {},
   "source": [
    "### Membagi dateset kedalam training set dan test set"
   ]
  },
  {
   "cell_type": "code",
   "execution_count": null,
   "id": "37181ab4",
   "metadata": {},
   "outputs": [],
   "source": [
    "from sklearn.model_selection import train_test_split\n",
    "x_train, x_test, y_train, y_test = train_test_split(x, y, test_size=0.2, random_state=1)"
   ]
  },
  {
   "cell_type": "code",
   "execution_count": null,
   "id": "fc0cddd2",
   "metadata": {},
   "outputs": [],
   "source": [
    "print(x_train)"
   ]
  },
  {
   "cell_type": "code",
   "execution_count": null,
   "id": "c5362a03",
   "metadata": {},
   "outputs": [],
   "source": [
    "print(x_test)"
   ]
  },
  {
   "cell_type": "code",
   "execution_count": null,
   "id": "3d1f64a6",
   "metadata": {},
   "outputs": [],
   "source": [
    "print(y_train)"
   ]
  },
  {
   "cell_type": "code",
   "execution_count": null,
   "id": "b28eeced",
   "metadata": {},
   "outputs": [],
   "source": [
    "print(y_test)"
   ]
  },
  {
   "cell_type": "markdown",
   "id": "ac3d9a7a",
   "metadata": {},
   "source": [
    "##### Test size yaitu bobot atau porsi test set. train size yaitu bobot atai porsi train test. random state yaitu agar hasil splitting tetap sama anatar runtimr nilainya bebas"
   ]
  },
  {
   "cell_type": "markdown",
   "id": "56bd4672",
   "metadata": {},
   "source": [
    "### Feature scaling"
   ]
  },
  {
   "cell_type": "code",
   "execution_count": null,
   "id": "f9b3419d",
   "metadata": {},
   "outputs": [],
   "source": [
    "from sklearn.preprocessing import StandardScaler\n",
    "sc = StandardScaler()\n",
    "x_train[:, 3:] = sc.fit_transform(x_train[:, 3:])\n",
    "x_test[:, 3:] = sc.transform(x_test[:, 3:])"
   ]
  },
  {
   "cell_type": "code",
   "execution_count": null,
   "id": "009f316f",
   "metadata": {},
   "outputs": [],
   "source": [
    "print(x_train)"
   ]
  },
  {
   "cell_type": "code",
   "execution_count": null,
   "id": "d5781a8e",
   "metadata": {},
   "outputs": [],
   "source": [
    "print(x_test)"
   ]
  },
  {
   "cell_type": "markdown",
   "id": "9c05c34d",
   "metadata": {},
   "source": [
    "##### Jika tidak dilakukan skala pada kolom maka akan terjadi kendala dengan estimator. ada tiga library scikitlearn yaitu StandardScaler untuk menghilangkan nilai rata rata dengan asumsi data terdistribusi, MinMaxScaler yaitu menskalakan nilai data kedalam suatu range, RobustScaler yaitu mirip dengan MinMaxScaler hanya saja menggunakan range yang berbeda. scaler ini dapat tahan dengan outlier"
   ]
  }
 ],
 "metadata": {
  "kernelspec": {
   "display_name": "Python 3 (ipykernel)",
   "language": "python",
   "name": "python3"
  },
  "language_info": {
   "codemirror_mode": {
    "name": "ipython",
    "version": 3
   },
   "file_extension": ".py",
   "mimetype": "text/x-python",
   "name": "python",
   "nbconvert_exporter": "python",
   "pygments_lexer": "ipython3",
   "version": "3.10.3"
  }
 },
 "nbformat": 4,
 "nbformat_minor": 5
}
