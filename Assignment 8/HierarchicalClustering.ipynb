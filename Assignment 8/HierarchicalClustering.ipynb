{
 "cells": [
  {
   "cell_type": "markdown",
   "id": "1dbcfca9",
   "metadata": {},
   "source": [
    "#### Dhany Septiandhika Pratama / A11.2019.11750"
   ]
  },
  {
   "cell_type": "markdown",
   "id": "bbe8f225",
   "metadata": {},
   "source": [
    "## Hierarchical Clustering"
   ]
  },
  {
   "cell_type": "code",
   "execution_count": null,
   "id": "1d0f3f2e",
   "metadata": {},
   "outputs": [],
   "source": [
    "import pandas as pd\n",
    "import numpy as np\n",
    "import matplotlib.pyplot as plt\n",
    "import seaborn as sns\n",
    "%matplotlib inline\n",
    "from sklearn import datasets\n",
    "iris = datasets.load_iris()"
   ]
  },
  {
   "cell_type": "code",
   "execution_count": null,
   "id": "0953a113",
   "metadata": {},
   "outputs": [],
   "source": [
    "df = pd.DataFrame(iris['data'])\n",
    "print(df.head())"
   ]
  },
  {
   "cell_type": "code",
   "execution_count": null,
   "id": "f289306b",
   "metadata": {},
   "outputs": [],
   "source": [
    "#import the whiten function\n",
    "from scipy.cluster.vq import whiten\n",
    "scaled_data = whiten(df.to_numpy())"
   ]
  },
  {
   "cell_type": "code",
   "execution_count": null,
   "id": "2535e715",
   "metadata": {},
   "outputs": [],
   "source": [
    "#import the fcluter and linkage functions\n",
    "from scipy.cluster.hierarchy import fcluster, linkage\n",
    "#use the linkage() function\n",
    "distance_matrix = linkage(scaled_data, method = 'ward', metric = 'euclidean')"
   ]
  },
  {
   "cell_type": "code",
   "execution_count": null,
   "id": "d5fe6846",
   "metadata": {},
   "outputs": [],
   "source": [
    "#import the dendrogram function\n",
    "from scipy.cluster.hierarchy import dendrogram\n",
    "#create a dendrogram\n",
    "dn = dendrogram(distance_matrix)\n",
    "#display the dendrogram\n",
    "plt.show"
   ]
  }
 ],
 "metadata": {
  "kernelspec": {
   "display_name": "Python 3 (ipykernel)",
   "language": "python",
   "name": "python3"
  },
  "language_info": {
   "codemirror_mode": {
    "name": "ipython",
    "version": 3
   },
   "file_extension": ".py",
   "mimetype": "text/x-python",
   "name": "python",
   "nbconvert_exporter": "python",
   "pygments_lexer": "ipython3",
   "version": "3.10.3"
  }
 },
 "nbformat": 4,
 "nbformat_minor": 5
}
